{
  "cells": [
    {
      "cell_type": "markdown",
      "metadata": {
        "id": "9veqgG-LVKd3"
      },
      "source": [
        "#About dataset\n",
        "salaries dataset generally provides information about the employees of an organization in relation to their compensation. It typically includes details such as how much each employee is paid (their salary), their job titles, the departments they work in, and possibly additional information like their level of experience, education, and employment history within the organization."
      ]
    },
    {
      "cell_type": "markdown",
      "metadata": {
        "id": "cZwHdpBfVzOh"
      },
      "source": [
        "# Features\n",
        "- 'Id'\n",
        "- 'EmployeeName'\n",
        "- 'JobTitle'\n",
        "- 'BasePay'\n",
        "- 'OvertimePay'\n",
        "- 'OtherPay'\n",
        "- 'Benefits'\n",
        "- 'TotalPay' -> salary\n",
        "- 'TotalPayBenefits'\n",
        "- 'Year'\n",
        "- 'Notes'\n",
        "- 'Agency'\n",
        "- 'Status'\n"
      ]
    },
    {
      "cell_type": "markdown",
      "metadata": {
        "id": "X1VJposzVrSF"
      },
      "source": [
        "# Tasks\n",
        "\n",
        "1. **Basic data Exploration**: Identify the number of rows and columns in the dataset, determine the data types of each column, and check for missing values in each column.\n",
        "\n",
        "2. **Descriptive Statistics**: Calculate basic statistics mean, median, mode, minimum, and maximum salary, determine the range of salaries, and find the standard deviation.\n",
        "\n",
        "3. **data Cleaning**: Handle missing data by suitable method with explain why you use it.\n",
        "\n",
        "4. **Basic data Visualization**: Create histograms or bar charts to visualize the distribution of salaries, and use pie charts to represent the proportion of employees in different departments.\n",
        "\n",
        "5. **Grouped Analysis**: Group the data by one or more columns and calculate summary statistics for each group, and compare the average salaries across different groups.\n",
        "\n",
        "6. **Simple Correlation Analysis**: Identify any correlation between salary and another numerical column, and plot a scatter plot to visualize the relationship.\n",
        "\n",
        "8. **Summary of Insights**: Write a brief report summarizing the findings and insights from the analyses."
      ]
    },
    {
      "cell_type": "markdown",
      "metadata": {
        "id": "8_rNdHiGUT6A"
      },
      "source": [
        "# Very Important Note\n",
        "There is no fixed or singular solution for this assignment, so if anything is not clear, please do what you understand and provide an explanation."
      ]
    },
    {
      "cell_type": "code",
      "execution_count": 1,
      "metadata": {
        "colab": {
          "base_uri": "https://localhost:8080/",
          "height": 486
        },
        "id": "KmZfk5xkXI2y",
        "outputId": "e77ffddb-f533-4bac-d15a-3ea9f42b7890"
      },
      "outputs": [
        {
          "name": "stderr",
          "output_type": "stream",
          "text": [
            "C:\\Users\\ASUS\\AppData\\Local\\Temp\\ipykernel_14652\\901707657.py:1: DeprecationWarning: \n",
            "Pyarrow will become a required dependency of pandas in the next major release of pandas (pandas 3.0),\n",
            "(to allow more performant data types, such as the Arrow string type, and better interoperability with other libraries)\n",
            "but was not found to be installed on your system.\n",
            "If this would cause problems for you,\n",
            "please provide us feedback at https://github.com/pandas-dev/pandas/issues/54466\n",
            "        \n",
            "  import pandas as pd\n"
          ]
        }
      ],
      "source": [
        "import pandas as pd\n",
        "import numpy as np\n",
        "import math\n",
        "import matplotlib.pyplot as plt\n",
        "\n",
        "\n",
        "df = pd.read_csv(r\"C:\\Users\\ASUS\\Desktop\\Salaries.csv\")\n",
        "\n"
      ]
    },
    {
      "cell_type": "markdown",
      "metadata": {},
      "source": [
        "the name of each column:"
      ]
    },
    {
      "cell_type": "code",
      "execution_count": 2,
      "metadata": {
        "colab": {
          "base_uri": "https://localhost:8080/"
        },
        "id": "xIT514wlvvBZ",
        "outputId": "9ecf152c-554a-4cf6-d667-efc95c16d489"
      },
      "outputs": [
        {
          "data": {
            "text/plain": [
              "Index(['Id', 'EmployeeName', 'JobTitle', 'BasePay', 'OvertimePay', 'OtherPay',\n",
              "       'Benefits', 'TotalPay', 'TotalPayBenefits', 'Year', 'Notes', 'Agency',\n",
              "       'Status'],\n",
              "      dtype='object')"
            ]
          },
          "execution_count": 2,
          "metadata": {},
          "output_type": "execute_result"
        }
      ],
      "source": [
        "df.columns"
      ]
    },
    {
      "cell_type": "markdown",
      "metadata": {},
      "source": [
        " Identify the number of rows and columns in the dataset"
      ]
    },
    {
      "cell_type": "code",
      "execution_count": 3,
      "metadata": {
        "id": "bbIN2ujHUyRx"
      },
      "outputs": [
        {
          "data": {
            "text/plain": [
              "(148654, 13)"
            ]
          },
          "execution_count": 3,
          "metadata": {},
          "output_type": "execute_result"
        }
      ],
      "source": [
        "df.shape\n"
      ]
    },
    {
      "cell_type": "markdown",
      "metadata": {},
      "source": [
        " the data types of each column:"
      ]
    },
    {
      "cell_type": "code",
      "execution_count": 4,
      "metadata": {
        "id": "_dovy31FUyUF"
      },
      "outputs": [
        {
          "data": {
            "text/plain": [
              "Id                    int64\n",
              "EmployeeName         object\n",
              "JobTitle             object\n",
              "BasePay             float64\n",
              "OvertimePay         float64\n",
              "OtherPay            float64\n",
              "Benefits            float64\n",
              "TotalPay            float64\n",
              "TotalPayBenefits    float64\n",
              "Year                  int64\n",
              "Notes               float64\n",
              "Agency               object\n",
              "Status              float64\n",
              "dtype: object"
            ]
          },
          "execution_count": 4,
          "metadata": {},
          "output_type": "execute_result"
        }
      ],
      "source": [
        "df.dtypes"
      ]
    },
    {
      "cell_type": "markdown",
      "metadata": {},
      "source": [
        "check for missing values in each \n",
        "column:"
      ]
    },
    {
      "cell_type": "code",
      "execution_count": 5,
      "metadata": {},
      "outputs": [
        {
          "data": {
            "text/plain": [
              "Id                       0\n",
              "EmployeeName             0\n",
              "JobTitle                 0\n",
              "BasePay                609\n",
              "OvertimePay              4\n",
              "OtherPay                 4\n",
              "Benefits             36163\n",
              "TotalPay                 0\n",
              "TotalPayBenefits         0\n",
              "Year                     0\n",
              "Notes               148654\n",
              "Agency                   0\n",
              "Status              148654\n",
              "dtype: int64"
            ]
          },
          "execution_count": 5,
          "metadata": {},
          "output_type": "execute_result"
        }
      ],
      "source": [
        "df.isnull().sum()"
      ]
    },
    {
      "cell_type": "markdown",
      "metadata": {},
      "source": [
        "mean of salaries(totalpays):"
      ]
    },
    {
      "cell_type": "code",
      "execution_count": 6,
      "metadata": {},
      "outputs": [
        {
          "name": "stdout",
          "output_type": "stream",
          "text": [
            "74768.32197169267\n"
          ]
        }
      ],
      "source": [
        "mean_salary = df['TotalPay'].mean()\n",
        "print(mean_salary)"
      ]
    },
    {
      "cell_type": "markdown",
      "metadata": {},
      "source": [
        "max of salaries(totalpays):"
      ]
    },
    {
      "cell_type": "code",
      "execution_count": 7,
      "metadata": {},
      "outputs": [
        {
          "name": "stdout",
          "output_type": "stream",
          "text": [
            "567595.43\n"
          ]
        }
      ],
      "source": [
        "max_salary=df['TotalPay'].max()\n",
        "print(max_salary)"
      ]
    },
    {
      "cell_type": "markdown",
      "metadata": {},
      "source": [
        "min of salaries(totalpays):"
      ]
    },
    {
      "cell_type": "code",
      "execution_count": 8,
      "metadata": {},
      "outputs": [
        {
          "name": "stdout",
          "output_type": "stream",
          "text": [
            "-618.13\n"
          ]
        }
      ],
      "source": [
        "min_salary=df['TotalPay'].min()\n",
        "\n",
        "print(min_salary)"
      ]
    },
    {
      "cell_type": "markdown",
      "metadata": {},
      "source": [
        "median of of salaries(totalpays):"
      ]
    },
    {
      "cell_type": "code",
      "execution_count": 9,
      "metadata": {},
      "outputs": [
        {
          "name": "stdout",
          "output_type": "stream",
          "text": [
            "71426.60999999999\n"
          ]
        }
      ],
      "source": [
        "median_salary = df['TotalPay'].median()\n",
        "print(median_salary)"
      ]
    },
    {
      "cell_type": "markdown",
      "metadata": {},
      "source": [
        "salary range:"
      ]
    },
    {
      "cell_type": "code",
      "execution_count": 10,
      "metadata": {},
      "outputs": [
        {
          "name": "stdout",
          "output_type": "stream",
          "text": [
            "568213.56\n"
          ]
        }
      ],
      "source": [
        "salary_range = df['TotalPay'].max() - df['TotalPay'].min() \n",
        "print(salary_range)"
      ]
    },
    {
      "cell_type": "markdown",
      "metadata": {},
      "source": [
        "the standard deviation:"
      ]
    },
    {
      "cell_type": "code",
      "execution_count": 11,
      "metadata": {},
      "outputs": [
        {
          "name": "stdout",
          "output_type": "stream",
          "text": [
            "50517.00527394987\n"
          ]
        }
      ],
      "source": [
        "std_dev = df['TotalPay'].std()  \n",
        "print(std_dev)"
      ]
    },
    {
      "cell_type": "markdown",
      "metadata": {},
      "source": [
        "data Cleaning:\n",
        "I deleted the lines that contained many zeros, which indicates an error in the data, and I deleted the columns that did not contain information, then I replaced the empty cells related to salaries with the average for the column, and I replaced the non-numeric cells with “unkown”ز"
      ]
    },
    {
      "cell_type": "code",
      "execution_count": 12,
      "metadata": {},
      "outputs": [
        {
          "name": "stdout",
          "output_type": "stream",
          "text": [
            "Id                  0\n",
            "EmployeeName        0\n",
            "JobTitle            0\n",
            "BasePay             0\n",
            "OvertimePay         0\n",
            "OtherPay            0\n",
            "Benefits            0\n",
            "TotalPay            0\n",
            "TotalPayBenefits    0\n",
            "Year                0\n",
            "Agency              0\n",
            "dtype: int64\n"
          ]
        }
      ],
      "source": [
        "zero_counts = df.eq(0).sum(axis=1) \n",
        "df = df[zero_counts <= 2]\n",
        "df.to_csv(r'C:\\Users\\ASUS\\Desktop\\Salaries.csv', index=False)\n",
        "\n",
        "nan_percent = df.isnull().sum() * 100 / len(df)\n",
        "nan_threshold =50\n",
        "df = df.loc[:, nan_percent <= nan_threshold]  \n",
        "df.to_csv(r'C:\\Users\\ASUS\\Desktop\\Salaries.csv', index=False)\n",
        "numeric_cols = df.select_dtypes(include=[np.number]).columns\n",
        "cols_mean = df[numeric_cols].mean()\n",
        "df[numeric_cols] = df[numeric_cols].fillna(cols_mean)\n",
        "df.to_csv(r'C:\\Users\\ASUS\\Desktop\\Salaries.csv', index=False)\n",
        "non_numeric_cols = df.columns.difference(numeric_cols)\n",
        "df[non_numeric_cols] = df[non_numeric_cols].fillna(\"unknown\")\n",
        "df.to_csv(r'C:\\Users\\ASUS\\Desktop\\Salaries.csv', index=False)\n",
        "print(df.isnull().sum())"
      ]
    },
    {
      "cell_type": "markdown",
      "metadata": {},
      "source": [
        "distribution of salaries:"
      ]
    },
    {
      "cell_type": "code",
      "execution_count": 13,
      "metadata": {},
      "outputs": [
        {
          "data": {
            "text/plain": [
              "<Axes: >"
            ]
          },
          "execution_count": 13,
          "metadata": {},
          "output_type": "execute_result"
        },
        {
          "data": {
            "image/png": "[encoded data removed]",
            "text/plain": [
              "<Figure size 640x480 with 1 Axes>"
            ]
          },
          "metadata": {},
          "output_type": "display_data"
        }
      ],
      "source": [
        "df['TotalPay'].hist()"
      ]
    },
    {
      "cell_type": "markdown",
      "metadata": {},
      "source": [
        "pie charts to represent the proportion of employees \n",
        "in different departments:\n",
        "Only top 10 sections were represented ."
      ]
    },
    {
      "cell_type": "code",
      "execution_count": 14,
      "metadata": {},
      "outputs": [
        {
          "data": {
            "image/png": "[encoded data removed]",
            "text/plain": [
              "<Figure size 640x480 with 1 Axes>"
            ]
          },
          "metadata": {},
          "output_type": "display_data"
        }
      ],
      "source": [
        "df['JobTitle'].value_counts().head(10).plot.pie(autopct='%1.1f%%')\n",
        "dept_counts = df['JobTitle'].value_counts()\n",
        "total_employees = len(df)"
      ]
    },
    {
      "cell_type": "markdown",
      "metadata": {},
      "source": [
        " average salary by Department:"
      ]
    },
    {
      "cell_type": "code",
      "execution_count": 15,
      "metadata": {},
      "outputs": [
        {
          "data": {
            "text/plain": [
              "JobTitle\n",
              "ACCOUNT CLERK                                     44035.664337\n",
              "ACCOUNTANT                                        47429.268000\n",
              "ACCOUNTANT INTERN                                 29031.742917\n",
              "ACPO,JuvP, Juv Prob (SFERS)                       62290.780000\n",
              "ACUPUNCTURIST                                     67594.400000\n",
              "                                                      ...     \n",
              "X-RAY LABORATORY AIDE                             52705.880385\n",
              "X-Ray Laboratory Aide                             50823.942700\n",
              "YOUTH COMMISSION ADVISOR, BOARD OF SUPERVISORS    53632.870000\n",
              "Youth Comm Advisor                                41414.307500\n",
              "ZOO CURATOR                                       66686.560000\n",
              "Name: TotalPay, Length: 2154, dtype: float64"
            ]
          },
          "execution_count": 15,
          "metadata": {},
          "output_type": "execute_result"
        }
      ],
      "source": [
        "df.groupby('JobTitle')['TotalPay'].mean()"
      ]
    },
    {
      "cell_type": "markdown",
      "metadata": {},
      "source": [
        "number of employees by Department"
      ]
    },
    {
      "cell_type": "code",
      "execution_count": 16,
      "metadata": {},
      "outputs": [
        {
          "data": {
            "text/plain": [
              "JobTitle\n",
              "ACCOUNT CLERK                                      83\n",
              "ACCOUNTANT                                          5\n",
              "ACCOUNTANT INTERN                                  48\n",
              "ACPO,JuvP, Juv Prob (SFERS)                         1\n",
              "ACUPUNCTURIST                                       1\n",
              "                                                 ... \n",
              "X-RAY LABORATORY AIDE                              26\n",
              "X-Ray Laboratory Aide                             100\n",
              "YOUTH COMMISSION ADVISOR, BOARD OF SUPERVISORS      1\n",
              "Youth Comm Advisor                                  4\n",
              "ZOO CURATOR                                         1\n",
              "Name: TotalPay, Length: 2154, dtype: int64"
            ]
          },
          "execution_count": 16,
          "metadata": {},
          "output_type": "execute_result"
        }
      ],
      "source": [
        "df.groupby('JobTitle')['TotalPay'].count()"
      ]
    },
    {
      "cell_type": "markdown",
      "metadata": {},
      "source": [
        "sum of salaries by Department"
      ]
    },
    {
      "cell_type": "code",
      "execution_count": 17,
      "metadata": {},
      "outputs": [
        {
          "data": {
            "text/plain": [
              "JobTitle\n",
              "ACCOUNT CLERK                                     3654960.14\n",
              "ACCOUNTANT                                         237146.34\n",
              "ACCOUNTANT INTERN                                 1393523.66\n",
              "ACPO,JuvP, Juv Prob (SFERS)                         62290.78\n",
              "ACUPUNCTURIST                                       67594.40\n",
              "                                                     ...    \n",
              "X-RAY LABORATORY AIDE                             1370352.89\n",
              "X-Ray Laboratory Aide                             5082394.27\n",
              "YOUTH COMMISSION ADVISOR, BOARD OF SUPERVISORS      53632.87\n",
              "Youth Comm Advisor                                 165657.23\n",
              "ZOO CURATOR                                         66686.56\n",
              "Name: TotalPay, Length: 2154, dtype: float64"
            ]
          },
          "execution_count": 17,
          "metadata": {},
          "output_type": "execute_result"
        }
      ],
      "source": [
        "df.groupby('JobTitle')['TotalPay'].sum()"
      ]
    },
    {
      "cell_type": "markdown",
      "metadata": {},
      "source": [
        "max salary per Department"
      ]
    },
    {
      "cell_type": "code",
      "execution_count": 18,
      "metadata": {},
      "outputs": [
        {
          "data": {
            "text/plain": [
              "JobTitle\n",
              "ACCOUNT CLERK                                     60838.20\n",
              "ACCOUNTANT                                        65392.01\n",
              "ACCOUNTANT INTERN                                 58799.53\n",
              "ACPO,JuvP, Juv Prob (SFERS)                       62290.78\n",
              "ACUPUNCTURIST                                     67594.40\n",
              "                                                    ...   \n",
              "X-RAY LABORATORY AIDE                             85077.40\n",
              "X-Ray Laboratory Aide                             99812.97\n",
              "YOUTH COMMISSION ADVISOR, BOARD OF SUPERVISORS    53632.87\n",
              "Youth Comm Advisor                                57544.73\n",
              "ZOO CURATOR                                       66686.56\n",
              "Name: TotalPay, Length: 2154, dtype: float64"
            ]
          },
          "execution_count": 18,
          "metadata": {},
          "output_type": "execute_result"
        }
      ],
      "source": [
        "df.groupby('JobTitle')['TotalPay'].max()"
      ]
    },
    {
      "cell_type": "markdown",
      "metadata": {},
      "source": [
        "min salary per Department"
      ]
    },
    {
      "cell_type": "code",
      "execution_count": 19,
      "metadata": {},
      "outputs": [
        {
          "data": {
            "text/plain": [
              "JobTitle\n",
              "ACCOUNT CLERK                                       614.00\n",
              "ACCOUNTANT                                         1148.40\n",
              "ACCOUNTANT INTERN                                  2981.53\n",
              "ACPO,JuvP, Juv Prob (SFERS)                       62290.78\n",
              "ACUPUNCTURIST                                     67594.40\n",
              "                                                    ...   \n",
              "X-RAY LABORATORY AIDE                              5343.69\n",
              "X-Ray Laboratory Aide                              1007.00\n",
              "YOUTH COMMISSION ADVISOR, BOARD OF SUPERVISORS    53632.87\n",
              "Youth Comm Advisor                                19212.71\n",
              "ZOO CURATOR                                       66686.56\n",
              "Name: TotalPay, Length: 2154, dtype: float64"
            ]
          },
          "execution_count": 19,
          "metadata": {},
          "output_type": "execute_result"
        }
      ],
      "source": [
        "df.groupby('JobTitle')['TotalPay'].min()"
      ]
    },
    {
      "cell_type": "markdown",
      "metadata": {},
      "source": [
        "mean of year per Department"
      ]
    },
    {
      "cell_type": "code",
      "execution_count": 20,
      "metadata": {},
      "outputs": [
        {
          "data": {
            "text/plain": [
              "JobTitle\n",
              "ACCOUNT CLERK                                     2011.00\n",
              "ACCOUNTANT                                        2011.00\n",
              "ACCOUNTANT INTERN                                 2011.00\n",
              "ACPO,JuvP, Juv Prob (SFERS)                       2014.00\n",
              "ACUPUNCTURIST                                     2011.00\n",
              "                                                   ...   \n",
              "X-RAY LABORATORY AIDE                             2011.00\n",
              "X-Ray Laboratory Aide                             2013.04\n",
              "YOUTH COMMISSION ADVISOR, BOARD OF SUPERVISORS    2011.00\n",
              "Youth Comm Advisor                                2013.00\n",
              "ZOO CURATOR                                       2011.00\n",
              "Name: Year, Length: 2154, dtype: float64"
            ]
          },
          "execution_count": 20,
          "metadata": {},
          "output_type": "execute_result"
        }
      ],
      "source": [
        "df.groupby('JobTitle')['Year'].mean()"
      ]
    },
    {
      "cell_type": "markdown",
      "metadata": {},
      "source": [
        "Correlation Analysis:\n",
        "between basepay and overtimepay"
      ]
    },
    {
      "cell_type": "code",
      "execution_count": 21,
      "metadata": {},
      "outputs": [
        {
          "data": {
            "text/html": [
              "<div>\n",
              "<style scoped>\n",
              "    .dataframe tbody tr th:only-of-type {\n",
              "        vertical-align: middle;\n",
              "    }\n",
              "\n",
              "    .dataframe tbody tr th {\n",
              "        vertical-align: top;\n",
              "    }\n",
              "\n",
              "    .dataframe thead th {\n",
              "        text-align: right;\n",
              "    }\n",
              "</style>\n",
              "<table border=\"1\" class=\"dataframe\">\n",
              "  <thead>\n",
              "    <tr style=\"text-align: right;\">\n",
              "      <th></th>\n",
              "      <th>BasePay</th>\n",
              "      <th>OvertimePay</th>\n",
              "    </tr>\n",
              "  </thead>\n",
              "  <tbody>\n",
              "    <tr>\n",
              "      <th>BasePay</th>\n",
              "      <td>1.000000</td>\n",
              "      <td>0.264796</td>\n",
              "    </tr>\n",
              "    <tr>\n",
              "      <th>OvertimePay</th>\n",
              "      <td>0.264796</td>\n",
              "      <td>1.000000</td>\n",
              "    </tr>\n",
              "  </tbody>\n",
              "</table>\n",
              "</div>"
            ],
            "text/plain": [
              "              BasePay  OvertimePay\n",
              "BasePay      1.000000     0.264796\n",
              "OvertimePay  0.264796     1.000000"
            ]
          },
          "execution_count": 21,
          "metadata": {},
          "output_type": "execute_result"
        }
      ],
      "source": [
        "df[['BasePay','OvertimePay']].corr()"
      ]
    },
    {
      "cell_type": "code",
      "execution_count": 22,
      "metadata": {},
      "outputs": [
        {
          "data": {
            "text/plain": [
              "<Axes: xlabel='BasePay', ylabel='OvertimePay'>"
            ]
          },
          "execution_count": 22,
          "metadata": {},
          "output_type": "execute_result"
        },
        {
          "data": {
            "image/png": "[encoded data removed]",
            "text/plain": [
              "<Figure size 640x480 with 1 Axes>"
            ]
          },
          "metadata": {},
          "output_type": "display_data"
        }
      ],
      "source": [
        "df.plot.scatter(x='BasePay', y='OvertimePay')"
      ]
    },
    {
      "cell_type": "markdown",
      "metadata": {},
      "source": [
        "**Summary of Insights**:\n",
        "The average salary across all employees was about 75k. The highest salary was over 567k, while the lowest was negative 618.\n",
        "The median salary was a bit lower at around $71k.\n",
        "When it came to different job titles, registered nurses, nurses, and public works aides made up the biggest chunks of the workforce.\n",
        "When grouping the data by Job Title, it showed the number of employees in each department, ranging from over 80 Account Clerks to just 1 person for some job titles. It also summed the total salaries by department, with Account Clerks having the highest total around $3.6 million, while some departments only had one employee's salary. \n",
        "I found some important informations like the maximum, minimum, and average salaries within each department. For example, Account Clerks had a maximum salary of around $61k but some earned as little as $614. On average Account Clerks earned around $44k annually. \n",
        "It also calculated the average year for each department, showing most employees had data from around 2011. \n",
        "This grouped analysis provided a breakdown of salaries by department, identifying the largest and smallest in terms of employee count and total pay. It revealed the ranges of individual salaries within each role. This helped compare salaries and staffing levels across different jobs titles within the organization.\n",
        "The distribution of salarie gave a good sense of where most people fell pay-wise.\n",
        "There was a positive correlation shown between base pay and overtime pay on the scatter plot. So those earning more money regularly tended to also get more opportunities for overtime. The correlation wasn't super strong but it was definitely there.\n",
        "In the end, this analysis shed some light on typical salaries, dominant jobs, differences between employers, how pay was spread out, and the link between base and extra pay."
      ]
    },
    {
      "cell_type": "markdown",
      "metadata": {
        "id": "HE9jbRjcUyoX"
      },
      "source": [
        "# Good Luck!"
      ]
    }
  ],
  "metadata": {
    "colab": {
      "provenance": []
    },
    "kernelspec": {
      "display_name": "Python 3",
      "name": "python3"
    },
    "language_info": {
      "codemirror_mode": {
        "name": "ipython",
        "version": 3
      },
      "file_extension": ".py",
      "mimetype": "text/x-python",
      "name": "python",
      "nbconvert_exporter": "python",
      "pygments_lexer": "ipython3",
      "version": "3.11.7"
    }
  },
  "nbformat": 4,
  "nbformat_minor": 0
}
